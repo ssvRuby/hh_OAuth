{
 "cells": [
  {
   "cell_type": "code",
   "execution_count": 58,
   "metadata": {
    "collapsed": true
   },
   "outputs": [],
   "source": [
    "import json\n",
    "import binascii\n",
    "import os\n",
    "import urllib3\n",
    "import certifi\n",
    "import requests\n",
    "from datetime import date, datetime, timedelta\n",
    "import time"
   ]
  },
  {
   "cell_type": "markdown",
   "source": [],
   "metadata": {
    "collapsed": false
   }
  },
  {
   "cell_type": "code",
   "execution_count": null,
   "outputs": [],
   "source": [
    "# Get authorisation params\n",
    "with open('user_token_params.json', 'r', encoding='utf-8') as f:\n",
    "    user_token_params = json.load(f)"
   ],
   "metadata": {
    "collapsed": false
   }
  },
  {
   "cell_type": "code",
   "execution_count": 52,
   "outputs": [],
   "source": [
    "vacancy_id = '70867905' # ИТ Директор (Солнечногорск)\n",
    "resume_id = '6e1019f2ff040603530039ed1f4b59356a4b71' # IT\n",
    "message = ''\n",
    "response_params = {}"
   ],
   "metadata": {
    "collapsed": false
   }
  },
  {
   "cell_type": "code",
   "execution_count": null,
   "outputs": [],
   "source": [
    "#----------------------------------------------------------------------------\n",
    "# https://julien.danjou.info/handling-multipart-form-data-python/\n",
    "#----------------------------------------------------------------------------\n",
    "def encode_multipart_formdata(fields):\n",
    "\n",
    "    boundary = binascii.hexlify(os.urandom(16)).decode('ascii')\n",
    "    body = (\n",
    "        \"\".join(\"--%s\\r\\n\"\n",
    "                \"Content-Disposition: form-data; name=\\\"%s\\\"\\r\\n\"\n",
    "                \"\\r\\n\"\n",
    "                \"%s\\r\\n\" % (boundary, field, value)\n",
    "                for field, value in fields.items()) +\n",
    "        \"--%s--\\r\\n\" % boundary\n",
    "    )\n",
    "    content_type = \"multipart/form-data; boundary=%s\" % boundary\n",
    "    return body, content_type"
   ],
   "metadata": {
    "collapsed": false
   }
  },
  {
   "cell_type": "code",
   "execution_count": 26,
   "outputs": [],
   "source": [
    "#------------------------------------------------------------------------------\n",
    "#\n",
    "#------------------------------------------------------------------------------\n",
    "http = urllib3.PoolManager(cert_reqs='CERT_REQUIRED', ca_certs=certifi.where())"
   ],
   "metadata": {
    "collapsed": false
   }
  },
  {
   "cell_type": "code",
   "execution_count": null,
   "outputs": [],
   "source": [
    "body, content_type = encode_multipart_formdata({'vacancy_id': '{}'.format(vacancy_id),\n",
    "                           'resume_id' : '{}'.format(resume_id),\n",
    "                           'message'   : '{}'.format(message)})\n",
    "\n",
    "r = http.request('POST', 'https://api.hh.ru/negotiations',\n",
    "                                    headers = {'Authorization' : 'Bearer {}'.format(user_token_params['access_token']),\n",
    "                                              'Accept'        : '*/*',\n",
    "                                              'User-Agent'    : 'CIO_jbSearch (ssv.ruby@gmail.com)',\n",
    "                                              'Content-Type'  : '{}'.format(content_type)},\n",
    "                                    body =  '{}'.format(body)\n",
    "                                  )"
   ],
   "metadata": {
    "collapsed": false
   }
  },
  {
   "cell_type": "code",
   "execution_count": 55,
   "outputs": [
    {
     "data": {
      "text/plain": "{'status': 201,\n 'reason': 'Created',\n 'date': 'Sat, 08 Oct 2022 14:03:16 GMT',\n 'response_link': 'https://hh.ru/applicant/negotiations/2928346342'}"
     },
     "execution_count": 55,
     "metadata": {},
     "output_type": "execute_result"
    }
   ],
   "source": [
    "response_params['status'] = r.status\n",
    "response_params['reason'] = r.reason\n",
    "response_params['date'] = r.getheader('Date')\n",
    "response_params['response_link'] = 'https://hh.ru/applicant{}'.format(r.getheader('Location'))\n",
    "response_params"
   ],
   "metadata": {
    "collapsed": false
   }
  },
  {
   "cell_type": "markdown",
   "source": [
    "## -------------------------------------------------------------------------\n",
    "1. Получить список поисковых запросов (`get_search_url()`)\n",
    "2. В цикле (с интервалом N-минут):\n",
    "2.1 Сформировать список новых вакансий (`get_vacancies()`)\n",
    "2.2 Сформировать и отправить отклик"
   ],
   "metadata": {
    "collapsed": false
   }
  },
  {
   "cell_type": "code",
   "execution_count": 105,
   "outputs": [],
   "source": [
    "#----------------------------------------------------------------------\n",
    "# Чтение из файла search_url_list.txt поисковых запросов по сайту\n",
    "# ----------------------------------------------------------------------\n",
    "def get_search_url(search_url_file = 'search_url_list.txt'):\n",
    "\n",
    "    search_url_list = []\n",
    "\n",
    "    with open(search_url_file, 'r') as f:\n",
    "        urls = f.readlines()\n",
    "\n",
    "    for current_string in urls:\n",
    "        if current_string[0:1] == '#' or current_string[0:1] == '\\n':\n",
    "            continue\n",
    "        search_url_list.append(current_string.rstrip())\n",
    "\n",
    "    return search_url_list\n"
   ],
   "metadata": {
    "collapsed": false
   }
  },
  {
   "cell_type": "code",
   "execution_count": 66,
   "outputs": [],
   "source": [
    "def get_vacancies(url_list, vacancies, log_file_name='vacancy_log.txt'):\n",
    "\n",
    "    date_from = (date.today() - timedelta(hours=24)).isoformat()\n",
    "    searches = []\n",
    "    new_vacancies = []\n",
    "\n",
    "    with open(log_file_name, 'a') as logfile:\n",
    "\n",
    "        for url in url_list:\n",
    "            for page in range(20):\n",
    "                try:\n",
    "                    searches.append(requests.get(url + '&page={}&per_page=100&date_from={}'.format(page, date_from)).json())\n",
    "                except Exception as ex_err:\n",
    "                    logfile.write('==> ERROR: {} W= Read Vacansies ===> {}'.format(date.today().isoformat(), ex_err) + '\\n')\n",
    "\n",
    "        try:\n",
    "            for items in searches:\n",
    "                for j in items['items']:\n",
    "                    if j['id'] not in vacancies:\n",
    "                        vacancies.append(j['id'])\n",
    "                        new_vacancies.append(j['id'])\n",
    "        except:\n",
    "            pass\n",
    "\n",
    "    return new_vacancies"
   ],
   "metadata": {
    "collapsed": false
   }
  },
  {
   "cell_type": "code",
   "execution_count": 67,
   "outputs": [],
   "source": [
    "# ----------------------------------------------------------------------\n",
    "#  Список просмотренных вакансий (Глобальная переменная)\n",
    "# ----------------------------------------------------------------------\n",
    "vacancies = []"
   ],
   "metadata": {
    "collapsed": false
   }
  },
  {
   "cell_type": "code",
   "execution_count": 109,
   "outputs": [
    {
     "data": {
      "text/plain": "['70688374', '70681189']"
     },
     "execution_count": 109,
     "metadata": {},
     "output_type": "execute_result"
    }
   ],
   "source": [
    "url_list = get_search_url()\n",
    "get_vacancies(url_list, vacancies)"
   ],
   "metadata": {
    "collapsed": false
   }
  },
  {
   "cell_type": "code",
   "execution_count": 110,
   "outputs": [
    {
     "name": "stdout",
     "output_type": "stream",
     "text": [
      "['69698797', '69807951', '70205848', '69715592', '70670739', '70667911', '70066898', '69990798', '70050557', '70821609', '67553546', '70366313', '70817455', '70030830', '70202353', '69793288', '70688374', '70681189']\n"
     ]
    }
   ],
   "source": [
    "\n",
    "print(vacancies)\n"
   ],
   "metadata": {
    "collapsed": false
   }
  },
  {
   "cell_type": "code",
   "execution_count": null,
   "outputs": [],
   "source": [],
   "metadata": {
    "collapsed": false
   }
  }
 ],
 "metadata": {
  "kernelspec": {
   "display_name": "Python 3",
   "language": "python",
   "name": "python3"
  },
  "language_info": {
   "codemirror_mode": {
    "name": "ipython",
    "version": 2
   },
   "file_extension": ".py",
   "mimetype": "text/x-python",
   "name": "python",
   "nbconvert_exporter": "python",
   "pygments_lexer": "ipython2",
   "version": "2.7.6"
  }
 },
 "nbformat": 4,
 "nbformat_minor": 0
}
