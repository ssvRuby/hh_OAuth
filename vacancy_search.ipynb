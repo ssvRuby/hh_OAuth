{
 "cells": [
  {
   "cell_type": "code",
   "execution_count": 1,
   "metadata": {
    "collapsed": true
   },
   "outputs": [],
   "source": [
    "import json\n",
    "import binascii\n",
    "import os\n",
    "import urllib3\n",
    "import certifi\n",
    "import requests\n",
    "from datetime import date, datetime, timedelta\n",
    "import time"
   ]
  },
  {
   "cell_type": "markdown",
   "metadata": {},
   "source": []
  },
  {
   "cell_type": "code",
   "execution_count": 2,
   "metadata": {},
   "outputs": [],
   "source": [
    "#----------------------------------------------------------------------------\n",
    "# https://julien.danjou.info/handling-multipart-form-data-python/\n",
    "#----------------------------------------------------------------------------\n",
    "def encode_multipart_formdata(fields):\n",
    "\n",
    "    boundary = binascii.hexlify(os.urandom(16)).decode('ascii')\n",
    "    body = (\n",
    "        \"\".join(\"--%s\\r\\n\"\n",
    "                \"Content-Disposition: form-data; name=\\\"%s\\\"\\r\\n\"\n",
    "                \"\\r\\n\"\n",
    "                \"%s\\r\\n\" % (boundary, field, value)\n",
    "                for field, value in fields.items()) +\n",
    "        \"--%s--\\r\\n\" % boundary\n",
    "    )\n",
    "    content_type = \"multipart/form-data; boundary=%s\" % boundary\n",
    "    return body, content_type"
   ]
  },
  {
   "cell_type": "code",
   "execution_count": 3,
   "metadata": {},
   "outputs": [],
   "source": [
    "def get_search_url(search_url_file = 'search_url_list.txt'):\n",
    "\n",
    "    search_url_list = []\n",
    "\n",
    "    with open(search_url_file, 'r') as f:\n",
    "        urls = f.readlines()\n",
    "\n",
    "    for current_string in urls:\n",
    "        if current_string[0:1] == '#' or current_string[0:1] == '\\n':\n",
    "            continue\n",
    "        search_url_list.append(current_string.rstrip())\n",
    "\n",
    "    return search_url_list\n"
   ]
  },
  {
   "cell_type": "code",
   "execution_count": 4,
   "metadata": {},
   "outputs": [],
   "source": [
    "def get_vacancies(url_list, vacancies, log_file_name='vacancy_log.txt'):\n",
    "\n",
    "    date_from = (date.today() - timedelta(hours=24)).isoformat()\n",
    "    searches = []\n",
    "    new_vacancies = []\n",
    "\n",
    "    with open(log_file_name, 'a') as logfile:\n",
    "\n",
    "        for url in url_list:\n",
    "            for page in range(20):\n",
    "                try:\n",
    "                    searches.append(requests.get(url + '&page={}&per_page=100&date_from={}'.format(page, date_from)).json())\n",
    "                except Exception as ex_err:\n",
    "                    logfile.write('==> ERROR: {} W= Read Vacansies ===> {}'.format(date.today().isoformat(), ex_err) + '\\n')\n",
    "\n",
    "        try:\n",
    "            for items in searches:\n",
    "                for j in items['items']:\n",
    "                    if j['id'] not in vacancies:\n",
    "                        vacancies.append(j['id'])\n",
    "                        new_vacancies.append(j['id'])\n",
    "        except:\n",
    "            pass\n",
    "\n",
    "    return new_vacancies"
   ]
  },
  {
   "cell_type": "code",
   "execution_count": 5,
   "metadata": {},
   "outputs": [],
   "source": [
    "def respond_to_vacancies(vacancies, resume_id, message='', log_file_name='vacancy_log.txt'):\n",
    "\n",
    "    http = urllib3.PoolManager(cert_reqs='CERT_REQUIRED', ca_certs=certifi.where())\n",
    "\n",
    "    with open(log_file_name, 'a') as logfile:\n",
    "\n",
    "        for vacancy_id in vacancies:\n",
    "            try:\n",
    "\n",
    "                body, content_type = encode_multipart_formdata({'vacancy_id': '{}'.format(vacancy_id),\n",
    "                                     'resume_id' : '{}'.format(resume_id),\n",
    "                                     'message'   : '{}'.format(message)})\n",
    "\n",
    "                r = http.request('POST', 'https://api.hh.ru/negotiations',\n",
    "                                        headers = {'Authorization' : 'Bearer {}'.format(user_token_params['access_token']),\n",
    "                                                  'Accept'        : '*/*',\n",
    "                                                  'User-Agent'    : 'CIO_jbSearch (ssv.ruby@gmail.com)',\n",
    "                                                  'Content-Type'  : '{}'.format(content_type)},\n",
    "                                        body =  '{}'.format(body)\n",
    "                                      )\n",
    "\n",
    "                result = 'Vacancy_id: {}, Date: {}, Status: {}, Reason: {}, Response_link: {}'.format(vacancy_id, r.getheader('Date'),\n",
    "                                                                                r.status, r.reason,\n",
    "                                                                                'https://hh.ru/applicant{}'.format(r.getheader('Location')))\n",
    "                logfile.write('{} == Respond Vacansies ===> {}'.format(date.today().isoformat(), result) + '\\n')\n",
    "\n",
    "            except Exception as ex_err:\n",
    "                logfile.write('{} W= Respond ERROR ===> {}'.format(date.today().isoformat(), ex_err) + '\\n')"
   ]
  },
  {
   "cell_type": "code",
   "execution_count": 6,
   "metadata": {},
   "outputs": [],
   "source": [
    "vacancies = []                                       #  \n",
    "resume_id = '6e1019f2ff040e03530039888f4b59356a4b71' # \n",
    "period    = 900                                      # "
   ]
  },
  {
   "cell_type": "code",
   "execution_count": 7,
   "metadata": {},
   "outputs": [],
   "source": [
    "# Get authorisation params\n",
    "with open('user_token_params.json', 'r', encoding='utf-8') as f:\n",
    "    user_token_params = json.load(f)"
   ]
  },
  {
   "cell_type": "code",
   "execution_count": 8,
   "metadata": {},
   "outputs": [],
   "source": [
    "# Get search requests list  (`get_search_url()`)\n",
    "url_list = get_search_url()"
   ]
  },
  {
   "cell_type": "code",
   "execution_count": null,
   "metadata": {
    "pycharm": {
     "is_executing": true
    }
   },
   "outputs": [],
   "source": [
    "while True:\n",
    "    try:\n",
    "        new_vacancies = get_vacancies(url_list, vacancies)\n",
    "        respond_to_vacancies(new_vacancies, resume_id)\n",
    "        time.sleep(period)\n",
    "    except:\n",
    "        pass"
   ]
  },
  {
   "cell_type": "code",
   "execution_count": null,
   "metadata": {
    "pycharm": {
     "is_executing": true
    }
   },
   "outputs": [],
   "source": []
  }
 ],
 "metadata": {
  "kernelspec": {
   "display_name": "Python 3 (ipykernel)",
   "language": "python",
   "name": "python3"
  },
  "language_info": {
   "codemirror_mode": {
    "name": "ipython",
    "version": 3
   },
   "file_extension": ".py",
   "mimetype": "text/x-python",
   "name": "python",
   "nbconvert_exporter": "python",
   "pygments_lexer": "ipython3",
   "version": "3.9.12"
  }
 },
 "nbformat": 4,
 "nbformat_minor": 1
}
