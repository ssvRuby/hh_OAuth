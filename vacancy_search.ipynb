{
 "cells": [
  {
   "cell_type": "code",
   "execution_count": 25,
   "metadata": {
    "collapsed": true
   },
   "outputs": [],
   "source": [
    "import json\n",
    "import binascii\n",
    "import os\n",
    "import urllib3\n",
    "import certifi\n",
    "import requests"
   ]
  },
  {
   "cell_type": "markdown",
   "source": [],
   "metadata": {
    "collapsed": false
   }
  },
  {
   "cell_type": "code",
   "execution_count": null,
   "outputs": [],
   "source": [
    "# Get authorisation params\n",
    "with open('user_token_params.json', 'r', encoding='utf-8') as f:\n",
    "    user_token_params = json.load(f)"
   ],
   "metadata": {
    "collapsed": false
   }
  },
  {
   "cell_type": "code",
   "execution_count": null,
   "outputs": [],
   "source": [
    "vacancy_id = '70867905' # ИТ Директор (Солнечногорск)\n",
    "resume_id = '6e1019f2ff040603530039ed1f4b59356a4b71' # IT\n",
    "message = ''"
   ],
   "metadata": {
    "collapsed": false
   }
  },
  {
   "cell_type": "code",
   "execution_count": null,
   "outputs": [],
   "source": [
    "#----------------------------------------------------------------------------\n",
    "# https://julien.danjou.info/handling-multipart-form-data-python/\n",
    "#----------------------------------------------------------------------------\n",
    "def encode_multipart_formdata(fields):\n",
    "\n",
    "    boundary = binascii.hexlify(os.urandom(16)).decode('ascii')\n",
    "    body = (\n",
    "        \"\".join(\"--%s\\r\\n\"\n",
    "                \"Content-Disposition: form-data; name=\\\"%s\\\"\\r\\n\"\n",
    "                \"\\r\\n\"\n",
    "                \"%s\\r\\n\" % (boundary, field, value)\n",
    "                for field, value in fields.items()) +\n",
    "        \"--%s--\\r\\n\" % boundary\n",
    "    )\n",
    "    content_type = \"multipart/form-data; boundary=%s\" % boundary\n",
    "    return body, content_type"
   ],
   "metadata": {
    "collapsed": false
   }
  },
  {
   "cell_type": "code",
   "execution_count": null,
   "outputs": [],
   "source": [
    "body, content_type = encode_multipart_formdata({'vacancy_id': '{}'.format(vacancy_id),\n",
    "                           'resume_id' : '{}'.format(resume_id),\n",
    "                           'message'   : '{}'.format(message)})\n",
    "\n",
    "print (body)"
   ],
   "metadata": {
    "collapsed": false
   }
  },
  {
   "cell_type": "code",
   "execution_count": 26,
   "outputs": [],
   "source": [
    "#------------------------------------------------------------------------------\n",
    "#\n",
    "#------------------------------------------------------------------------------\n",
    "http = urllib3.PoolManager(cert_reqs='CERT_REQUIRED', ca_certs=certifi.where())"
   ],
   "metadata": {
    "collapsed": false
   }
  },
  {
   "cell_type": "code",
   "execution_count": 27,
   "outputs": [],
   "source": [
    "r = http.request('POST', 'https://api.hh.ru/negotiations',\n",
    "                                    headers = {'Authorization' : 'Bearer {}'.format(user_token_params['access_token']),\n",
    "                                              'Accept'        : '*/*',\n",
    "                                              'User-Agent'    : 'CIO_jbSearch (ssv.ruby@gmail.com)',\n",
    "                                              'Content-Type'  : '{}'.format(content_type)},\n",
    "                                    body =  '{}'.format(body)\n",
    "                                  )\n"
   ],
   "metadata": {
    "collapsed": false
   }
  },
  {
   "cell_type": "code",
   "execution_count": 28,
   "outputs": [
    {
     "name": "stdout",
     "output_type": "stream",
     "text": [
      " Status : 201 \r\n",
      " Reason : Created \r\n",
      " /negotiations/2928346342 \r\n",
      " b''\n"
     ]
    }
   ],
   "source": [
    "print (' Status : {}'.format (r.status), '\\r\\n',\n",
    "'Reason : {}'.format (r.reason), '\\r\\n',\n",
    "r.getheader('Location'), '\\r\\n',\n",
    "r.data)"
   ],
   "metadata": {
    "collapsed": false
   }
  },
  {
   "cell_type": "code",
   "execution_count": 32,
   "outputs": [
    {
     "data": {
      "text/plain": "'/negotiations/2928346342'"
     },
     "execution_count": 32,
     "metadata": {},
     "output_type": "execute_result"
    }
   ],
   "source": [
    "r.getheader('Location')"
   ],
   "metadata": {
    "collapsed": false
   }
  },
  {
   "cell_type": "code",
   "execution_count": null,
   "outputs": [],
   "source": [
    "# Ссылка на отклик:\n",
    "'https://hh.ru/applicant{}'.format(r.getheader('Location'))"
   ],
   "metadata": {
    "collapsed": false
   }
  },
  {
   "cell_type": "code",
   "execution_count": 35,
   "outputs": [
    {
     "data": {
      "text/plain": "HTTPHeaderDict({'Server': 'ddos-guard', 'Connection': 'keep-alive', 'Keep-Alive': 'timeout=60', 'Set-Cookie': '__ddg1_=ioiOPWhnTtxUmJprOqjh; Domain=.hh.ru; HttpOnly; Path=/; Expires=Sun, 08-Oct-2023 14:03:15 GMT', 'Date': 'Sat, 08 Oct 2022 14:03:16 GMT', 'Content-Type': 'text/html; charset=utf-8', 'Content-Length': '0', 'X-Request-Id': '166523779585058b1e43129b0671366e, 166523779585058b1e43129b0671366e', 'Cache-Control': 'max-age=0, private, must-revalidate', 'Expires': 'Sat, 27 Aug 2022 14:03:15 GMT', 'Location': '/negotiations/2928346342', 'Access-Control-Allow-Origin': '*', 'Access-Control-Expose-Headers': 'Location, ETag, Date, Expires, Cache-Control, Content-Type, X-Request-ID', 'X-Hhid': '60033868', 'X-Frame-Options': 'SAMEORIGIN', 'X-Content-Type-Options': 'nosniff', 'Report-To': '{\"group\":\"nel\",\"endpoints\":[{\"url\":\"https:\\\\/\\\\/nel.hhdev.ru\\\\/report\\\\/api\"}],\"max_age\":3600}', 'NEL': '{\"success_fraction\":0,\"report_to\":\"nel\",\"max_age\":3600}'})"
     },
     "execution_count": 35,
     "metadata": {},
     "output_type": "execute_result"
    }
   ],
   "source": [
    "r.headers"
   ],
   "metadata": {
    "collapsed": false
   }
  },
  {
   "cell_type": "code",
   "execution_count": 36,
   "outputs": [
    {
     "data": {
      "text/plain": "'Sat, 08 Oct 2022 14:03:16 GMT'"
     },
     "execution_count": 36,
     "metadata": {},
     "output_type": "execute_result"
    }
   ],
   "source": [
    "r.getheader('Date')"
   ],
   "metadata": {
    "collapsed": false
   }
  },
  {
   "cell_type": "code",
   "execution_count": null,
   "outputs": [],
   "source": [],
   "metadata": {
    "collapsed": false
   }
  }
 ],
 "metadata": {
  "kernelspec": {
   "display_name": "Python 3",
   "language": "python",
   "name": "python3"
  },
  "language_info": {
   "codemirror_mode": {
    "name": "ipython",
    "version": 2
   },
   "file_extension": ".py",
   "mimetype": "text/x-python",
   "name": "python",
   "nbconvert_exporter": "python",
   "pygments_lexer": "ipython2",
   "version": "2.7.6"
  }
 },
 "nbformat": 4,
 "nbformat_minor": 0
}
