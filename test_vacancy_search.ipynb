{
 "cells": [
  {
   "cell_type": "code",
   "execution_count": null,
   "metadata": {
    "collapsed": true
   },
   "outputs": [],
   "source": [
    "import json\n",
    "import binascii\n",
    "import os\n",
    "import urllib3\n",
    "import certifi\n",
    "import requests\n",
    "from datetime import date, datetime, timedelta\n",
    "import time"
   ]
  },
  {
   "cell_type": "markdown",
   "metadata": {},
   "source": []
  },
  {
   "cell_type": "code",
   "execution_count": null,
   "metadata": {},
   "outputs": [],
   "source": [
    "#----------------------------------------------------------------------\n",
    "# Чтение из файла search_url_list.txt поисковых запросов по сайту\n",
    "# ----------------------------------------------------------------------\n",
    "def get_search_url(search_url_file = 'search_url_list.txt'):\n",
    "\n",
    "    search_url_list = []\n",
    "\n",
    "    with open(search_url_file, 'r') as f:\n",
    "        urls = f.readlines()\n",
    "\n",
    "    for current_string in urls:\n",
    "        if current_string[0:1] == '#' or current_string[0:1] == '\\n':\n",
    "            continue\n",
    "        search_url_list.append(current_string.rstrip())\n",
    "\n",
    "    return search_url_list\n"
   ]
  },
  {
   "cell_type": "code",
   "execution_count": 126,
   "metadata": {},
   "outputs": [],
   "source": [
    "def get_vacancies(url_list, vacancies, vacancy_with_response, log_file_name='vacancy_log.txt'):\n",
    "\n",
    "    date_from = (date.today() - timedelta(hours=24)).isoformat()\n",
    "    searches = []\n",
    "    new_vacancies = []\n",
    "\n",
    "    with open(log_file_name, 'a') as logfile:\n",
    "\n",
    "        for url in url_list:\n",
    "            for page in range(50):\n",
    "                try:\n",
    "                    # searches.append(requests.get(url + '&page={}&per_page=100&date_from={}'.format(page, date_from)).json())\n",
    "                    searches.append(requests.get(url).json())\n",
    "                except Exception as ex_err:\n",
    "                    logfile.write('==> ERROR: {} W= Read Vacansies ===> {}'.format(date.today().isoformat(), ex_err) + '\\n')\n",
    "\n",
    "        try:\n",
    "            for items in searches:\n",
    "                for j in items['items']:\n",
    "                    if j['id']  in vacancies:\n",
    "                        continue\n",
    "                    elif j['id'] in vacancy_with_response:\n",
    "                        continue\n",
    "                    else:\n",
    "                        vacancies.append(j['id'])\n",
    "                        new_vacancies.append(j['id'])\n",
    "        except:\n",
    "            pass\n",
    "\n",
    "    return new_vacancies"
   ]
  },
  {
   "cell_type": "code",
   "execution_count": 143,
   "metadata": {},
   "outputs": [],
   "source": [
    "#-----------------------------------------------------------------\n",
    "# Получает список вакансий, на которые ранее были сделаны отклики,\n",
    "# в глобальную переменную vacancy_with_response = []\n",
    "#-----------------------------------------------------------------\n",
    "def get_vacancy_with_response(pages = 500):\n",
    "\n",
    "    def http_request(page_number = 0):\n",
    "        return http.request('GET', 'https://api.hh.ru/negotiations?&page={}&per_page=100'.format(page_number),\n",
    "                                        headers = {'Authorization' : 'Bearer {}'.format(user_token_params['access_token']),\n",
    "                                                   'Accept'        : '*/*',\n",
    "                                                   'User-Agent'    : 'CIO_jbSearch (ssv.ruby@gmail.com)'})\n",
    "\n",
    "\n",
    "    http = urllib3.PoolManager(cert_reqs='CERT_REQUIRED', ca_certs=certifi.where())\n",
    "\n",
    "    for page_num in range(pages):\n",
    "        req = http_request(page_num)\n",
    "        data = json.loads(req.data)\n",
    "        if len(data['items']) == 0:\n",
    "            break\n",
    "        for item in data['items']:\n",
    "            vacancy_with_response.append(item['vacancy']['id'])\n"
   ]
  },
  {
   "cell_type": "code",
   "execution_count": null,
   "metadata": {},
   "outputs": [],
   "source": [
    "# GET /resumes/{resume_id}/similar_vacancies"
   ]
  },
  {
   "cell_type": "code",
   "execution_count": null,
   "metadata": {},
   "outputs": [],
   "source": [
    "# respond_to_vacancies\n",
    "#---------------------------\n",
    "def respond_to_vacancies(vacancies, resume_id, message='', log_file_name='vacancy_log.txt'):\n",
    "\n",
    "    http = urllib3.PoolManager(cert_reqs='CERT_REQUIRED', ca_certs=certifi.where())\n",
    "\n",
    "    with open(log_file_name, 'a') as logfile:\n",
    "\n",
    "        for vacancy_id in vacancies:\n",
    "            try:\n",
    "\n",
    "                body, content_type = encode_multipart_formdata({'vacancy_id': '{}'.format(vacancy_id),\n",
    "                                     'resume_id' : '{}'.format(resume_id),\n",
    "                                     'message'   : '{}'.format(message)})\n",
    "\n",
    "                r = http.request('POST', 'https://api.hh.ru/negotiations',\n",
    "                                        headers = {'Authorization' : 'Bearer {}'.format(user_token_params['access_token']),\n",
    "                                                  'Accept'        : '*/*',\n",
    "                                                  'User-Agent'    : 'CIO_jbSearch (ssv.ruby@gmail.com)',\n",
    "                                                  'Content-Type'  : '{}'.format(content_type)},\n",
    "                                        body =  '{}'.format(body)\n",
    "                                      )\n",
    "\n",
    "                result = 'Vacancy_id: {}, Date: {}, Status: {}, Reason: {}, Response_link: {}'.format(vacancy_id, r.getheader('Date'),\n",
    "                                                                                r.status, r.reason,\n",
    "                                                                                'https://hh.ru/applicant{}'.format(r.getheader('Location')))\n",
    "                logfile.write('{} == Respond Vacansies ===> {}'.format(date.today().isoformat(), result) + '\\n')\n",
    "\n",
    "            except Exception as ex_err:\n",
    "                logfile.write('{} W= Respond ERROR ===> {}'.format(date.today().isoformat(), ex_err) + '\\n')"
   ]
  },
  {
   "cell_type": "code",
   "execution_count": 144,
   "metadata": {},
   "outputs": [],
   "source": [
    "# ----------------------------------------------------------------------\n",
    "#  Список просмотренных программой вакансий (Глобальная переменная): vacancies = []\n",
    "# ----------------------------------------------------------------------\n",
    "vacancies = []                                       #  Список просмотренных вакансий в текущем сеансе (Глобальная переменная)\n",
    "vacancy_with_response = []                           #  Список просмотренных вакансий за всю историю (Глобальная переменная)\n",
    "resume_id = '6e1019f2ff077703530039ed1f4b59356a4b71' # IT Directot\n",
    "period    = 900                                      # 900 сек - период обращения к сайту"
   ]
  },
  {
   "cell_type": "code",
   "execution_count": null,
   "metadata": {},
   "outputs": [],
   "source": [
    "# Get authorisation params\n",
    "with open('user_token_params.json', 'r', encoding='utf-8') as f:\n",
    "    user_token_params = json.load(f)"
   ]
  },
  {
   "cell_type": "code",
   "execution_count": 141,
   "metadata": {},
   "outputs": [],
   "source": [
    "url_list = []\n",
    "url_list.append('https://api.hh.ru/vacancies?&text=%D0%BF%D1%80%D0%BE%D0%B3%D1%80%D0%B0%D0%BC%D0%BC%D0%B8%D1%81%D1%82')\n",
    "#url_list.append('https://api.hh.ru/vacancies?text=%D0%9F%D1%80%D0%BE%D0%B3%D1%80%D0%B0%D0%BC%D0%BC%D0%B8%D1%81%D1%82+data+science')"
   ]
  },
  {
   "cell_type": "code",
   "execution_count": 145,
   "metadata": {},
   "outputs": [],
   "source": [
    "get_vacancy_with_response()"
   ]
  },
  {
   "cell_type": "code",
   "execution_count": 146,
   "metadata": {},
   "outputs": [
    {
     "data": {
      "text/plain": [
       "667"
      ]
     },
     "execution_count": 146,
     "metadata": {},
     "output_type": "execute_result"
    }
   ],
   "source": [
    "len(vacancy_with_response)"
   ]
  },
  {
   "cell_type": "code",
   "execution_count": 147,
   "metadata": {},
   "outputs": [
    {
     "data": {
      "text/plain": [
       "18"
      ]
     },
     "execution_count": 147,
     "metadata": {},
     "output_type": "execute_result"
    }
   ],
   "source": [
    "get_vacancy_with_response()\n",
    "len(vacancy_with_response)\n",
    "new_vacancies = get_vacancies(url_list, vacancies, vacancy_with_response)\n",
    "len(vacancies)"
   ]
  },
  {
   "cell_type": "code",
   "execution_count": null,
   "metadata": {},
   "outputs": [],
   "source": []
  },
  {
   "cell_type": "code",
   "execution_count": null,
   "metadata": {},
   "outputs": [],
   "source": []
  },
  {
   "cell_type": "code",
   "execution_count": null,
   "metadata": {},
   "outputs": [],
   "source": []
  }
 ],
 "metadata": {
  "kernelspec": {
   "display_name": "Python 3 (ipykernel)",
   "language": "python",
   "name": "python3"
  },
  "language_info": {
   "codemirror_mode": {
    "name": "ipython",
    "version": 3
   },
   "file_extension": ".py",
   "mimetype": "text/x-python",
   "name": "python",
   "nbconvert_exporter": "python",
   "pygments_lexer": "ipython3",
   "version": "3.9.12"
  }
 },
 "nbformat": 4,
 "nbformat_minor": 1
}
