{
 "cells": [
  {
   "cell_type": "code",
   "execution_count": 58,
   "metadata": {
    "collapsed": true
   },
   "outputs": [],
   "source": [
    "import json\n",
    "import binascii\n",
    "import os\n",
    "import urllib3\n",
    "import certifi"
   ]
  },
  {
   "cell_type": "markdown",
   "metadata": {},
   "source": [
    "## Проверка отклика на вакансию"
   ]
  },
  {
   "cell_type": "code",
   "execution_count": null,
   "metadata": {},
   "outputs": [],
   "source": [
    "# Get authorisation params\n",
    "with open('user_token_params.json', 'r', encoding='utf-8') as f:\n",
    "    user_token_params = json.load(f)"
   ]
  },
  {
   "cell_type": "code",
   "execution_count": 52,
   "metadata": {},
   "outputs": [],
   "source": [
    "vacancy_id = '70867905' \n",
    "resume_id = '6e1019f2ff040603530039ed1f4b593554312' # IT\n",
    "message = ''\n",
    "response_params = {}"
   ]
  },
  {
   "cell_type": "code",
   "execution_count": null,
   "metadata": {},
   "outputs": [],
   "source": [
    "#----------------------------------------------------------------------------\n",
    "# https://julien.danjou.info/handling-multipart-form-data-python/\n",
    "#----------------------------------------------------------------------------\n",
    "def encode_multipart_formdata(fields):\n",
    "\n",
    "    boundary = binascii.hexlify(os.urandom(16)).decode('ascii')\n",
    "    body = (\n",
    "        \"\".join(\"--%s\\r\\n\"\n",
    "                \"Content-Disposition: form-data; name=\\\"%s\\\"\\r\\n\"\n",
    "                \"\\r\\n\"\n",
    "                \"%s\\r\\n\" % (boundary, field, value)\n",
    "                for field, value in fields.items()) +\n",
    "        \"--%s--\\r\\n\" % boundary\n",
    "    )\n",
    "    content_type = \"multipart/form-data; boundary=%s\" % boundary\n",
    "    return body, content_type"
   ]
  },
  {
   "cell_type": "code",
   "execution_count": 26,
   "metadata": {},
   "outputs": [],
   "source": [
    "http = urllib3.PoolManager(cert_reqs='CERT_REQUIRED', ca_certs=certifi.where())"
   ]
  },
  {
   "cell_type": "code",
   "execution_count": null,
   "metadata": {},
   "outputs": [],
   "source": [
    "body, content_type = encode_multipart_formdata({'vacancy_id': '{}'.format(vacancy_id),\n",
    "                           'resume_id' : '{}'.format(resume_id),\n",
    "                           'message'   : '{}'.format(message)})\n",
    "\n",
    "r = http.request('POST', 'https://api.hh.ru/negotiations',\n",
    "                                    headers = {'Authorization' : 'Bearer {}'.format(user_token_params['access_token']),\n",
    "                                              'Accept'        : '*/*',\n",
    "                                              'User-Agent'    : 'CIO_jbSearch (ssv.ruby@gmail.com)',\n",
    "                                              'Content-Type'  : '{}'.format(content_type)},\n",
    "                                    body =  '{}'.format(body)\n",
    "                                  )"
   ]
  },
  {
   "cell_type": "code",
   "execution_count": 55,
   "metadata": {},
   "outputs": [
    {
     "data": {
      "text/plain": [
       "{'status': 201,\n",
       " 'reason': 'Created',\n",
       " 'date': 'Sat, 08 Oct 2022 14:03:16 GMT',\n",
       " 'response_link': 'https://hh.ru/applicant/negotiations/2928346342'}"
      ]
     },
     "execution_count": 55,
     "metadata": {},
     "output_type": "execute_result"
    }
   ],
   "source": [
    "response_params['status'] = r.status\n",
    "response_params['reason'] = r.reason\n",
    "response_params['date'] = r.getheader('Date')\n",
    "response_params['response_link'] = 'https://hh.ru/applicant{}'.format(r.getheader('Location'))\n",
    "response_params"
   ]
  },
  {
   "cell_type": "code",
   "execution_count": null,
   "metadata": {},
   "outputs": [],
   "source": []
  }
 ],
 "metadata": {
  "kernelspec": {
   "display_name": "Python 3 (ipykernel)",
   "language": "python",
   "name": "python3"
  },
  "language_info": {
   "codemirror_mode": {
    "name": "ipython",
    "version": 3
   },
   "file_extension": ".py",
   "mimetype": "text/x-python",
   "name": "python",
   "nbconvert_exporter": "python",
   "pygments_lexer": "ipython3",
   "version": "3.9.12"
  }
 },
 "nbformat": 4,
 "nbformat_minor": 1
}
